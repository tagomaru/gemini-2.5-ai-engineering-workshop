{
  "cells": [
    {
      "cell_type": "markdown",
      "id": "a0e77860",
      "metadata": {
        "id": "a0e77860"
      },
      "source": [
        " [![Open In Colab](https://colab.research.google.com/assets/colab-badge.svg)](https://colab.research.google.com/github/philschmid/gemini-2.5-ai-engineering-workshop/blob/main/notebooks/00-setup-and-authentication.ipynb)\n",
        "\n",
        "# Part 1: Setup and Authentication\n",
        "\n",
        "## 0. Use the Google AI Studio as playground\n",
        "\n",
        "[Google AI Studio](https://aistudio.google.com/) is a developer platform that allows you to quickly experiment with Google's Gemini models. It provides a user-friendly interface for crafting and testing prompts, adjusting model parameters, and then easily exporting the code to integrate into your applications. It's a great way to prototype and explore the capabilities of Google's AI models before diving into coding with the SDK. You'll use it in this workshop to get your API Key.\n",
        "\n",
        "![Google AI Studio](https://github.com/philschmid/gemini-2.5-ai-engineering-workshop/blob/main/assets/1-0-ai-studio.png?raw=1)\n",
        "\n",
        "## 1. Get your API Key\n",
        "\n",
        "To use the Gemini API, you'll need an API key.\n",
        "\n",
        "1. Go to [Google AI Studio](https://aistudio.google.com/apikey) to create and retrieve your API key.\n",
        "![API Key](https://github.com/philschmid/gemini-2.5-ai-engineering-workshop/blob/main/assets/1-1-api-key.png?raw=1)\n",
        "2. Copy the API key and store it as an environment variable `GEMINI_API_KEY` or if you are using Colab, set it as secret in the notebook.\n",
        "![API Key Colab](https://github.com/philschmid/gemini-2.5-ai-engineering-workshop/blob/main/assets/1-2-secrets.png?raw=1)\n",
        "\n",
        "**Important:** Keep your API key confidential.\n",
        "\n",
        "## 2. Install the Python SDK\n",
        "\n",
        "Open your terminal, command prompt or notebook and run the following command:"
      ]
    },
    {
      "cell_type": "code",
      "execution_count": null,
      "id": "e41b4055",
      "metadata": {
        "id": "e41b4055"
      },
      "outputs": [],
      "source": [
        "%pip install -U -q \"google-genai\""
      ]
    },
    {
      "cell_type": "markdown",
      "id": "fe1ffbcb",
      "metadata": {
        "id": "fe1ffbcb"
      },
      "source": [
        "## 3. Configure the Client and Test Generation"
      ]
    },
    {
      "cell_type": "code",
      "execution_count": null,
      "id": "9fa99414",
      "metadata": {
        "id": "9fa99414"
      },
      "outputs": [],
      "source": [
        "from google import genai\n",
        "import sys\n",
        "import os\n",
        "\n",
        "IN_COLAB = 'google.colab' in sys.modules\n",
        "\n",
        "if IN_COLAB:\n",
        "    from google.colab import userdata\n",
        "    GEMINI_API_KEY = userdata.get('GEMINI_API_KEY')\n",
        "else:\n",
        "    GEMINI_API_KEY = os.environ.get('GEMINI_API_KEY', None)\n",
        "\n",
        "# Create client with api key\n",
        "client = genai.Client(api_key=GEMINI_API_KEY)\n",
        "\n",
        "# Test generation\n",
        "response = client.models.generate_content(\n",
        "    model=\"gemini-2.0-flash\",\n",
        "    contents=\"Hello, world!\"\n",
        ")\n",
        "print(response.text)"
      ]
    },
    {
      "cell_type": "markdown",
      "id": "91c88949",
      "metadata": {
        "id": "91c88949"
      },
      "source": [
        "## 4. Available Models\n",
        "\n",
        "The Gemini API provides a range of powerful models to suit different needs. When you make an API call, you'll specify which model you want to use by its unique ID. You can always find the most up-to-date information on available models and their capabilities in the [official Google AI documentation](https://ai.google.dev/gemini-api/docs/models).\n",
        "\n",
        "\n",
        "| Model Name                     | Model ID (Example)             | Free Tier Available | Notes (from pricing page)                                  |\n",
        "| ------------------------------ | ------------------------------ | ------------------- | ---------------------------------------------------------- |\n",
        "| Gemini 2.0 Flash               | `gemini-2.0-flash`             | Yes                 | Input and output are free of charge.                       |\n",
        "| Gemini 2.5 Flash Preview       | `gemini-2.5-flash-preview-05-20`     | Yes                 | Input and output are free of charge.                       |\n",
        "| Gemini 2.5 Pro Preview         | `gemini-2.5-pro-preview-05-06`       | No                  | Paid tier only.                                            |\n",
        "\n",
        "**Note:** \"Preview\" models may change before becoming stable and might have more restrictive rate limits. Always check the official documentation for the latest details.\n",
        "\n",
        "## Recap & Next Steps\n",
        "\n",
        "**What You've Learned:**\n",
        "- Setting up Google AI Studio as your development playground\n",
        "- Obtaining and securing your Gemini API key\n",
        "- Installing and configuring the `google-genai` Python SDK\n",
        "- Making your first API call to test the connection\n",
        "- Understanding available Gemini models and their capabilities\n",
        "\n",
        "**Key Takeaways:**\n",
        "- Always keep your API key secure and use environment variables\n",
        "- Test your setup early to catch configuration issues\n",
        "- Familiarize yourself with available models and their use cases\n",
        "- Use Google AI Studio for quick prototyping and testing\n",
        "\n",
        "**Next Steps:** Continue with [Part 1: Text Generation and Chat](https://github.com/philschmid/gemini-2.5-ai-engineering-workshop/blob/main/notebooks/01-text-generation-and-chat.ipynb) [![Open In Colab](https://colab.research.google.com/assets/colab-badge.svg)](https://colab.research.google.com/github/philschmid/gemini-2.5-ai-engineering-workshop/blob/main/notebooks/01-text-generation-and-chat.ipynb)\n",
        "\n",
        "**More Resources:**\n",
        "- [Gemini API Documentation Quickstart](https://ai.google.dev/gemini-api/docs/quickstart?lang=python)\n",
        "- [Available Models Overview](https://ai.google.dev/gemini-api/docs/models)\n",
        "- [Google AI Studio](https://aistudio.google.com/)"
      ]
    }
  ],
  "metadata": {
    "language_info": {
      "name": "python"
    },
    "colab": {
      "provenance": []
    },
    "kernelspec": {
      "name": "python3",
      "display_name": "Python 3"
    }
  },
  "nbformat": 4,
  "nbformat_minor": 5
}